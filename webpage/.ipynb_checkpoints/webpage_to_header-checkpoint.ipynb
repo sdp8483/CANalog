{
 "cells": [
  {
   "cell_type": "code",
   "execution_count": 17,
   "metadata": {},
   "outputs": [
    {
     "name": "stdout",
     "output_type": "stream",
     "text": [
      "analog.html\n",
      "pgnid.js\n",
      "index.js\n",
      "frame.html\n",
      "pgnid.html\n",
      "analog.js\n",
      "about.js\n",
      "index.html\n",
      "saved_ok.html\n",
      "style.css\n",
      "about.html\n",
      "saved_nok.html\n",
      "frame.js\n",
      "analog.html\n",
      "pgnid.js\n",
      "index.js\n",
      "frame.html\n",
      "pgnid.html\n",
      "analog.js\n",
      "about.js\n",
      "index.html\n",
      "saved_ok.html\n",
      "style.css\n",
      "about.html\n",
      "saved_nok.html\n",
      "frame.js\n"
     ]
    }
   ],
   "source": [
    "import os\n",
    "\n",
    "# set directories\n",
    "working_dir = os.getcwd()\n",
    "web_dir = working_dir.replace(\"webpage\", \"firmware/esp_CANalog_interface/lib/webpage\")\n",
    "\n",
    "# Get all html, js, css files in CANalog/webpage directory\n",
    "files_to_convert = []\n",
    "for file in os.listdir():\n",
    "    if (file.endswith(\".html\") | (file.endswith(\".js\")) | (file.endswith(\".css\"))):\n",
    "        print(file)\n",
    "        files_to_convert.append(file)\n",
    "\n",
    "for f in files_to_convert:\n",
    "    print(f)\n",
    "    \n",
    "    header_fname = \"{}.h\".format(f)\n",
    "    header_path = os.path.join(web_dir, header_fname)\n",
    "\n",
    "    hdefine = \"INC_{}_\".format(header_fname.replace(\".\", \"_\").upper())\n",
    "    pdefine = \"PAGE_{}_{}\".format(f.split(\".\")[0].lower(), f.split(\".\")[-1].upper())\n",
    "\n",
    "    with open(header_path, 'w') as header, open(f, 'r') as html:\n",
    "        header.write(\"#ifndef {}\\n\".format(hdefine))\n",
    "        header.write(\"#define {}\\n\\n\".format(hdefine))\n",
    "        header.write(\"#include <Arduino.h>\\n\\n\")\n",
    "        header.write('const char {}[] PROGMEM = R\"=====(\\n'.format(pdefine))\n",
    "        header.write(html.read())\n",
    "        header.write(')=====\";\\n')\n",
    "        header.write(\"#endif\")"
   ]
  },
  {
   "cell_type": "code",
   "execution_count": null,
   "metadata": {},
   "outputs": [],
   "source": []
  }
 ],
 "metadata": {
  "kernelspec": {
   "display_name": "Python 3",
   "language": "python",
   "name": "python3"
  },
  "language_info": {
   "codemirror_mode": {
    "name": "ipython",
    "version": 3
   },
   "file_extension": ".py",
   "mimetype": "text/x-python",
   "name": "python",
   "nbconvert_exporter": "python",
   "pygments_lexer": "ipython3",
   "version": "3.9.2"
  }
 },
 "nbformat": 4,
 "nbformat_minor": 4
}

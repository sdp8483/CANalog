{
 "cells": [
  {
   "cell_type": "code",
   "execution_count": 10,
   "metadata": {},
   "outputs": [],
   "source": [
    "import numpy as np\n",
    "\n",
    "def sn_calc_sub(array):\n",
    "    array.sort()\n",
    "    return (array[2] - array[1] - array[0])\n",
    "\n",
    "def sn_calc_xor(array):\n",
    "#     array.sort()\n",
    "    return (array[2] ^ array[1] ^ array[0])\n",
    "\n",
    "def sn_calc_or(array):\n",
    "#     array.sort()\n",
    "    return (array[2] | array[1] | array[0])\n",
    "\n",
    "def sn_calc_and(array):\n",
    "#     array.sort()\n",
    "    return (array[2] & array[1] & array[0])\n",
    "\n",
    "def sn_calc_mix(array):\n",
    "    array.sort()\n",
    "    return (array[2] ^ array[1] & array[0])\n",
    "\n",
    "def pair(x, y):\n",
    "    mask = pow(2,32) - 1\n",
    "    xpow = (x * x) & mask\n",
    "    ypow = (y * y) & mask\n",
    "    xy2 = (2 * x * y) & mask\n",
    "    x3 = (x * 3) & mask\n",
    "    \n",
    "#     s = (0.5 * (pow(x, 2) + 3*x + 2*x*y + y + pow(y,2)))\n",
    "#     return int(s) & pow(2,32)\n",
    "    s = 0.5 * (xpow + x3 + xy2 + y + ypow)\n",
    "    return int(s) & mask\n",
    "\n",
    "def sn_pair(array):\n",
    "    a = pair(array[0], array[1])\n",
    "    \n",
    "    return pair(a, array[2])\n",
    "\n",
    "import warnings\n",
    "warnings.filterwarnings('ignore')"
   ]
  },
  {
   "cell_type": "code",
   "execution_count": 2,
   "metadata": {},
   "outputs": [
    {
     "name": "stdout",
     "output_type": "stream",
     "text": [
      "sub duplicates: 139\n",
      "xor duplicates: 105\n",
      "mix duplicates: 164\n",
      "pair duplicates: 135\n"
     ]
    }
   ],
   "source": [
    "# how many sets of 96bit numbers to generate\n",
    "N = int(1e6)\n",
    "\n",
    "# generate array of 96bit data\n",
    "a = np.random.randint(pow(2, 32), size=(N, 3), dtype=np.uint32)\n",
    "    \n",
    "# generate sn\n",
    "sn_sub = np.apply_along_axis(sn_calc_sub, 1, a)\n",
    "sn_xor = np.apply_along_axis(sn_calc_xor, 1, a)\n",
    "# sn_or = np.apply_along_axis(sn_calc_or, 1, a)\n",
    "# sn_and = np.apply_along_axis(sn_calc_and, 1, a)\n",
    "sn_mix = np.apply_along_axis(sn_calc_mix, 1, a)\n",
    "sn_pair = np.apply_along_axis(sn_pair, 1, a)\n",
    "\n",
    "# find duplicates\n",
    "u, c = np.unique(sn_sub, return_counts=True)\n",
    "dup_sub = u[c > 1]\n",
    "print(\"sub duplicates: {}\".format(dup_sub.size))\n",
    "\n",
    "u, c = np.unique(sn_xor, return_counts=True)\n",
    "dup_xor = u[c > 1]\n",
    "print(\"xor duplicates: {}\".format(dup_xor.size))\n",
    "\n",
    "# u, c = np.unique(sn_or, return_counts=True)\n",
    "# dup_or = u[c > 1]\n",
    "# print(\"or duplicates: {}\".format(dup_or.size))\n",
    "\n",
    "# u, c = np.unique(sn_and, return_counts=True)\n",
    "# dup_and = u[c > 1]\n",
    "# print(\"and duplicates: {}\".format(dup_and.size))\n",
    "\n",
    "u, c = np.unique(sn_mix, return_counts=True)\n",
    "dup_mix = u[c > 1]\n",
    "print(\"mix duplicates: {}\".format(dup_mix.size))\n",
    "\n",
    "u, c = np.unique(sn_pair, return_counts=True)\n",
    "dup = u[c > 1]\n",
    "print(\"pair duplicates: {}\".format(dup.size))"
   ]
  },
  {
   "cell_type": "code",
   "execution_count": 11,
   "metadata": {},
   "outputs": [
    {
     "name": "stdout",
     "output_type": "stream",
     "text": [
      "Subtraction: 0x22e226b6\n",
      "Xor: 0x6342670a\n"
     ]
    }
   ],
   "source": [
    "a = np.array([int(\"310029\",16),int(\"43435711\",16),int(\"20303032\",16)])\n",
    "sn = sn_calc_sub(a)\n",
    "\n",
    "print(\"Subtraction: {}\".format(hex(sn_calc_sub(a))))\n",
    "print(\"Xor: {}\".format(hex(sn_calc_xor(a))))"
   ]
  },
  {
   "cell_type": "code",
   "execution_count": null,
   "metadata": {},
   "outputs": [],
   "source": []
  }
 ],
 "metadata": {
  "kernelspec": {
   "display_name": "Python 3",
   "language": "python",
   "name": "python3"
  },
  "language_info": {
   "codemirror_mode": {
    "name": "ipython",
    "version": 3
   },
   "file_extension": ".py",
   "mimetype": "text/x-python",
   "name": "python",
   "nbconvert_exporter": "python",
   "pygments_lexer": "ipython3",
   "version": "3.9.5"
  }
 },
 "nbformat": 4,
 "nbformat_minor": 4
}
